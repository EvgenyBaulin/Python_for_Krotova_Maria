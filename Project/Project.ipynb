{
 "cells": [
  {
   "cell_type": "markdown",
   "id": "c668ec7d-3e23-4d78-a0db-92352002dc98",
   "metadata": {},
   "source": [
    "# Anime Recommendations Database"
   ]
  },
  {
   "cell_type": "code",
   "execution_count": 30,
   "id": "e37bb892-1075-47a4-8250-deab28a1311d",
   "metadata": {
    "ExecuteTime": {
     "end_time": "2023-11-23T11:58:25.927881Z",
     "start_time": "2023-11-23T11:58:25.843786Z"
    }
   },
   "outputs": [],
   "source": [
    "import pandas as pd\n",
    "import numpy as np\n",
    "import matplotlib.pyplot as plt"
   ]
  },
  {
   "cell_type": "code",
   "execution_count": 31,
   "id": "0bb162a0-5835-4dc1-8a77-cf4f0bccd168",
   "metadata": {
    "ExecuteTime": {
     "end_time": "2023-11-23T11:58:26.045276Z",
     "start_time": "2023-11-23T11:58:25.849129Z"
    }
   },
   "outputs": [
    {
     "data": {
      "text/plain": "   anime_id                              name  \\\n0     32281                    Kimi no Na wa.   \n1      5114  Fullmetal Alchemist: Brotherhood   \n2     28977                          Gintama°   \n3      9253                       Steins;Gate   \n4      9969                     Gintama&#039;   \n\n                                               genre   type episodes  rating  \\\n0               Drama, Romance, School, Supernatural  Movie        1    9.37   \n1  Action, Adventure, Drama, Fantasy, Magic, Mili...     TV       64    9.26   \n2  Action, Comedy, Historical, Parody, Samurai, S...     TV       51    9.25   \n3                                   Sci-Fi, Thriller     TV       24    9.17   \n4  Action, Comedy, Historical, Parody, Samurai, S...     TV       51    9.16   \n\n   members  \n0   200630  \n1   793665  \n2   114262  \n3   673572  \n4   151266  ",
      "text/html": "<div>\n<style scoped>\n    .dataframe tbody tr th:only-of-type {\n        vertical-align: middle;\n    }\n\n    .dataframe tbody tr th {\n        vertical-align: top;\n    }\n\n    .dataframe thead th {\n        text-align: right;\n    }\n</style>\n<table border=\"1\" class=\"dataframe\">\n  <thead>\n    <tr style=\"text-align: right;\">\n      <th></th>\n      <th>anime_id</th>\n      <th>name</th>\n      <th>genre</th>\n      <th>type</th>\n      <th>episodes</th>\n      <th>rating</th>\n      <th>members</th>\n    </tr>\n  </thead>\n  <tbody>\n    <tr>\n      <th>0</th>\n      <td>32281</td>\n      <td>Kimi no Na wa.</td>\n      <td>Drama, Romance, School, Supernatural</td>\n      <td>Movie</td>\n      <td>1</td>\n      <td>9.37</td>\n      <td>200630</td>\n    </tr>\n    <tr>\n      <th>1</th>\n      <td>5114</td>\n      <td>Fullmetal Alchemist: Brotherhood</td>\n      <td>Action, Adventure, Drama, Fantasy, Magic, Mili...</td>\n      <td>TV</td>\n      <td>64</td>\n      <td>9.26</td>\n      <td>793665</td>\n    </tr>\n    <tr>\n      <th>2</th>\n      <td>28977</td>\n      <td>Gintama°</td>\n      <td>Action, Comedy, Historical, Parody, Samurai, S...</td>\n      <td>TV</td>\n      <td>51</td>\n      <td>9.25</td>\n      <td>114262</td>\n    </tr>\n    <tr>\n      <th>3</th>\n      <td>9253</td>\n      <td>Steins;Gate</td>\n      <td>Sci-Fi, Thriller</td>\n      <td>TV</td>\n      <td>24</td>\n      <td>9.17</td>\n      <td>673572</td>\n    </tr>\n    <tr>\n      <th>4</th>\n      <td>9969</td>\n      <td>Gintama&amp;#039;</td>\n      <td>Action, Comedy, Historical, Parody, Samurai, S...</td>\n      <td>TV</td>\n      <td>51</td>\n      <td>9.16</td>\n      <td>151266</td>\n    </tr>\n  </tbody>\n</table>\n</div>"
     },
     "execution_count": 31,
     "metadata": {},
     "output_type": "execute_result"
    }
   ],
   "source": [
    "df = pd.read_csv(r\"Data/anime.csv\")\n",
    "df.head()"
   ]
  },
  {
   "cell_type": "markdown",
   "id": "b8b5a862-1fe6-4f97-a897-dc8fadbb902a",
   "metadata": {},
   "source": [
    "Let's check if there are empty cells and the impotance of them in relation of the amount of data"
   ]
  },
  {
   "cell_type": "code",
   "execution_count": 32,
   "id": "f7702a15-99af-44c4-bb29-b4fec48e4614",
   "metadata": {
    "ExecuteTime": {
     "end_time": "2023-11-23T11:58:26.045531Z",
     "start_time": "2023-11-23T11:58:25.884466Z"
    }
   },
   "outputs": [
    {
     "data": {
      "text/plain": "12294"
     },
     "execution_count": 32,
     "metadata": {},
     "output_type": "execute_result"
    }
   ],
   "source": [
    "df.shape[0]"
   ]
  },
  {
   "cell_type": "markdown",
   "source": [
    "#### Добавить описание, что это и зачем"
   ],
   "metadata": {
    "collapsed": false
   },
   "id": "62fffe4892052ed0"
  },
  {
   "cell_type": "code",
   "execution_count": 33,
   "id": "805e574f-0220-49e7-a34d-18e4caa19e97",
   "metadata": {
    "ExecuteTime": {
     "end_time": "2023-11-23T11:58:26.046340Z",
     "start_time": "2023-11-23T11:58:25.890466Z"
    }
   },
   "outputs": [
    {
     "data": {
      "text/plain": "anime_id    0.000000\nname        0.000000\ngenre       0.005043\ntype        0.002034\nepisodes    0.000000\nrating      0.018708\nmembers     0.000000\ndtype: float64"
     },
     "execution_count": 33,
     "metadata": {},
     "output_type": "execute_result"
    }
   ],
   "source": [
    "df.isna().sum() / df.shape[0]"
   ]
  },
  {
   "cell_type": "markdown",
   "id": "21bcf015-ed54-4b67-b6f0-ca31a0cf451e",
   "metadata": {},
   "source": [
    "So, the percentage of empty cells is smaller the 0,1% and I bellieve that they have very small impact on the overview the dataset and it is easier to delste rows without some data."
   ]
  },
  {
   "cell_type": "code",
   "execution_count": 34,
   "id": "ea49eafc-7bef-49dd-a7e0-b1d1ae5fcd49",
   "metadata": {
    "ExecuteTime": {
     "end_time": "2023-11-23T11:58:26.047404Z",
     "start_time": "2023-11-23T11:58:25.897017Z"
    }
   },
   "outputs": [
    {
     "data": {
      "text/plain": "anime_id    0\nname        0\ngenre       0\ntype        0\nepisodes    0\nrating      0\nmembers     0\ndtype: int64"
     },
     "execution_count": 34,
     "metadata": {},
     "output_type": "execute_result"
    }
   ],
   "source": [
    "df.dropna(inplace = True)\n",
    "df.isna().sum()"
   ]
  },
  {
   "cell_type": "markdown",
   "id": "1fba9099-030f-487a-a8c2-a087fe082f55",
   "metadata": {},
   "source": [
    "There is no empty cells\n"
   ]
  },
  {
   "cell_type": "markdown",
   "id": "918a79db-85bf-48f8-8aa9-6df8149b7d57",
   "metadata": {},
   "source": [
    "Assumption: the more genras anime includes the higher rating"
   ]
  },
  {
   "cell_type": "code",
   "execution_count": 35,
   "id": "0c072f8c-bcb6-4118-a6e0-fce4656eec19",
   "metadata": {
    "ExecuteTime": {
     "end_time": "2023-11-23T11:58:26.047484Z",
     "start_time": "2023-11-23T11:58:25.905767Z"
    }
   },
   "outputs": [],
   "source": [
    "example = \"Drama, Romance, School, Supernatural\"  # Откуда такие значения?"
   ]
  },
  {
   "cell_type": "code",
   "execution_count": 36,
   "id": "89ffed84-cc9a-4686-a216-b9625b385651",
   "metadata": {
    "ExecuteTime": {
     "end_time": "2023-11-23T11:58:26.047909Z",
     "start_time": "2023-11-23T11:58:25.908357Z"
    }
   },
   "outputs": [
    {
     "data": {
      "text/plain": "4"
     },
     "execution_count": 36,
     "metadata": {},
     "output_type": "execute_result"
    }
   ],
   "source": [
    "def f(s: list):\n",
    "\ts = s.split()  # Что это и зачем?\n",
    "\ts = len(s)\n",
    "\treturn s\n",
    "\n",
    "\n",
    "f(example)"
   ]
  },
  {
   "cell_type": "markdown",
   "source": [
    "#### Добавить описание, что это и зачем"
   ],
   "metadata": {
    "collapsed": false
   },
   "id": "920b0a4bff98f2e2"
  },
  {
   "cell_type": "code",
   "execution_count": 37,
   "id": "1ad63cab-7853-4f30-a072-9324b5e947f2",
   "metadata": {
    "ExecuteTime": {
     "end_time": "2023-11-23T11:58:26.048001Z",
     "start_time": "2023-11-23T11:58:25.912550Z"
    }
   },
   "outputs": [
    {
     "data": {
      "text/plain": "Series([], Name: genre, dtype: object)"
     },
     "execution_count": 37,
     "metadata": {},
     "output_type": "execute_result"
    }
   ],
   "source": [
    "df.genre[df.genre.isna()]"
   ]
  },
  {
   "cell_type": "markdown",
   "source": [
    "#### Добавить описание, что это и зачем"
   ],
   "metadata": {
    "collapsed": false
   },
   "id": "95e03bee76617929"
  },
  {
   "cell_type": "code",
   "execution_count": 38,
   "id": "a9c41670-caba-4c88-82a8-245f8cdf3a73",
   "metadata": {
    "ExecuteTime": {
     "end_time": "2023-11-23T11:58:26.048918Z",
     "start_time": "2023-11-23T11:58:25.920908Z"
    }
   },
   "outputs": [
    {
     "data": {
      "text/plain": "0                     Drama, Romance, School, Supernatural\n1        Action, Adventure, Drama, Fantasy, Magic, Mili...\n2        Action, Comedy, Historical, Parody, Samurai, S...\n3                                         Sci-Fi, Thriller\n4        Action, Comedy, Historical, Parody, Samurai, S...\n                               ...                        \n12289                                               Hentai\n12290                                               Hentai\n12291                                               Hentai\n12292                                               Hentai\n12293                                               Hentai\nName: genre, Length: 12017, dtype: object"
     },
     "execution_count": 38,
     "metadata": {},
     "output_type": "execute_result"
    }
   ],
   "source": [
    "genre = df.genre.apply(f)\n",
    "df.genre"
   ]
  },
  {
   "cell_type": "markdown",
   "source": [
    "#### Добавить описание, что зачем это"
   ],
   "metadata": {
    "collapsed": false
   },
   "id": "7494ffe0f9e1a11f"
  },
  {
   "cell_type": "code",
   "execution_count": 39,
   "id": "3a5ba7cf-755c-43fd-ab47-3b7958d80dd9",
   "metadata": {
    "ExecuteTime": {
     "end_time": "2023-11-23T11:58:26.067139Z",
     "start_time": "2023-11-23T11:58:25.930323Z"
    }
   },
   "outputs": [
    {
     "data": {
      "text/plain": "<Figure size 640x480 with 1 Axes>",
      "image/png": "[encoded data removed]"
     },
     "metadata": {},
     "output_type": "display_data"
    }
   ],
   "source": [
    "plt.scatter(genre, df.members)\n",
    "\n",
    "plt.xlabel(\"genre\")\n",
    "plt.ylabel(\"df.members\")\n",
    "plt.title(\"Graph: Relationship between Number of Viewers and Genre\")\n",
    "\n",
    "plt.show()"
   ]
  },
  {
   "cell_type": "markdown",
   "source": [
    "#### Добавить описание, зачем это"
   ],
   "metadata": {
    "collapsed": false
   },
   "id": "10d1ebaa5cfb5a8c"
  }
 ],
 "metadata": {
  "kernelspec": {
   "display_name": "Python 3 (ipykernel)",
   "language": "python",
   "name": "python3"
  },
  "language_info": {
   "codemirror_mode": {
    "name": "ipython",
    "version": 3
   },
   "file_extension": ".py",
   "mimetype": "text/x-python",
   "name": "python",
   "nbconvert_exporter": "python",
   "pygments_lexer": "ipython3",
   "version": "3.11.5"
  }
 },
 "nbformat": 4,
 "nbformat_minor": 5
}
