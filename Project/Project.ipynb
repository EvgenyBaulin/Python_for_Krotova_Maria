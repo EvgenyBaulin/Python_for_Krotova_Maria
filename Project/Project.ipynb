{
 "cells": [
  {
   "cell_type": "markdown",
   "source": [
    "# Anime Recommendations Database"
   ],
   "metadata": {
    "collapsed": false
   },
   "id": "3b0498a086101d8c"
  },
  {
   "cell_type": "code",
   "execution_count": 90,
   "id": "e37bb892-1075-47a4-8250-deab28a1311d",
   "metadata": {
    "ExecuteTime": {
     "end_time": "2023-11-23T12:13:55.567276Z",
     "start_time": "2023-11-23T12:13:55.483692Z"
    }
   },
   "outputs": [],
   "source": [
    "import pandas as pd\n",
    "import numpy as np\n",
    "import matplotlib.pyplot as plt\n",
    "import plotly.express as px"
   ]
  },
  {
   "cell_type": "code",
   "execution_count": 91,
   "id": "0bb162a0-5835-4dc1-8a77-cf4f0bccd168",
   "metadata": {
    "ExecuteTime": {
     "end_time": "2023-11-23T12:13:55.582089Z",
     "start_time": "2023-11-23T12:13:55.560355Z"
    }
   },
   "outputs": [
    {
     "data": {
      "text/plain": "   anime_id                              name  \\\n0     32281                    Kimi no Na wa.   \n1      5114  Fullmetal Alchemist: Brotherhood   \n2     28977                          Gintama°   \n3      9253                       Steins;Gate   \n4      9969                     Gintama&#039;   \n\n                                               genre   type episodes  rating  \\\n0               Drama, Romance, School, Supernatural  Movie        1    9.37   \n1  Action, Adventure, Drama, Fantasy, Magic, Mili...     TV       64    9.26   \n2  Action, Comedy, Historical, Parody, Samurai, S...     TV       51    9.25   \n3                                   Sci-Fi, Thriller     TV       24    9.17   \n4  Action, Comedy, Historical, Parody, Samurai, S...     TV       51    9.16   \n\n   members  \n0   200630  \n1   793665  \n2   114262  \n3   673572  \n4   151266  ",
      "text/html": "<div>\n<style scoped>\n    .dataframe tbody tr th:only-of-type {\n        vertical-align: middle;\n    }\n\n    .dataframe tbody tr th {\n        vertical-align: top;\n    }\n\n    .dataframe thead th {\n        text-align: right;\n    }\n</style>\n<table border=\"1\" class=\"dataframe\">\n  <thead>\n    <tr style=\"text-align: right;\">\n      <th></th>\n      <th>anime_id</th>\n      <th>name</th>\n      <th>genre</th>\n      <th>type</th>\n      <th>episodes</th>\n      <th>rating</th>\n      <th>members</th>\n    </tr>\n  </thead>\n  <tbody>\n    <tr>\n      <th>0</th>\n      <td>32281</td>\n      <td>Kimi no Na wa.</td>\n      <td>Drama, Romance, School, Supernatural</td>\n      <td>Movie</td>\n      <td>1</td>\n      <td>9.37</td>\n      <td>200630</td>\n    </tr>\n    <tr>\n      <th>1</th>\n      <td>5114</td>\n      <td>Fullmetal Alchemist: Brotherhood</td>\n      <td>Action, Adventure, Drama, Fantasy, Magic, Mili...</td>\n      <td>TV</td>\n      <td>64</td>\n      <td>9.26</td>\n      <td>793665</td>\n    </tr>\n    <tr>\n      <th>2</th>\n      <td>28977</td>\n      <td>Gintama°</td>\n      <td>Action, Comedy, Historical, Parody, Samurai, S...</td>\n      <td>TV</td>\n      <td>51</td>\n      <td>9.25</td>\n      <td>114262</td>\n    </tr>\n    <tr>\n      <th>3</th>\n      <td>9253</td>\n      <td>Steins;Gate</td>\n      <td>Sci-Fi, Thriller</td>\n      <td>TV</td>\n      <td>24</td>\n      <td>9.17</td>\n      <td>673572</td>\n    </tr>\n    <tr>\n      <th>4</th>\n      <td>9969</td>\n      <td>Gintama&amp;#039;</td>\n      <td>Action, Comedy, Historical, Parody, Samurai, S...</td>\n      <td>TV</td>\n      <td>51</td>\n      <td>9.16</td>\n      <td>151266</td>\n    </tr>\n  </tbody>\n</table>\n</div>"
     },
     "execution_count": 91,
     "metadata": {},
     "output_type": "execute_result"
    }
   ],
   "source": [
    "df = pd.read_csv(r\"Data/anime.csv\")\n",
    "df.head()"
   ]
  },
  {
   "cell_type": "markdown",
   "id": "b8b5a862-1fe6-4f97-a897-dc8fadbb902a",
   "metadata": {},
   "source": [
    "Let's check if there are empty cells and the importance of them in relation of the amount of data"
   ]
  },
  {
   "cell_type": "code",
   "execution_count": 102,
   "outputs": [
    {
     "data": {
      "text/plain": "       anime_id                                     name  \\\n40         1535                               Death Note   \n86        16498                       Shingeki no Kyojin   \n804       11757                         Sword Art Online   \n1          5114         Fullmetal Alchemist: Brotherhood   \n159        6547                             Angel Beats!   \n...         ...                                      ...   \n10500     33822      Ten ni Yaka Reru: E ni Yoru Shougen   \n9701      33826                   Neko no Kuni no Kenpou   \n8367      34259      Chotto Ugoku!? &quot;Futeneko&quot;   \n10464     33662  Taka no Tsume 8: Yoshida-kun no X-Files   \n10444     34490                           Sushi Azarashi   \n\n                                                   genre   type episodes  \\\n40     Mystery, Police, Psychological, Supernatural, ...     TV       37   \n86          Action, Drama, Fantasy, Shounen, Super Power     TV       25   \n804            Action, Adventure, Fantasy, Game, Romance     TV       25   \n1      Action, Adventure, Drama, Fantasy, Magic, Mili...     TV       64   \n159          Action, Comedy, Drama, School, Supernatural     TV       13   \n...                                                  ...    ...      ...   \n10500                                  Drama, Historical    OVA        1   \n9701                                          Historical    OVA        1   \n8367                                              Comedy    OVA        1   \n10464                                     Comedy, Parody  Movie        1   \n10444                                             Comedy     TV       30   \n\n       rating  members  genre_count  \n40       8.71  1013917            5  \n86       8.54   896229            5  \n804      7.83   893100            5  \n1        9.26   793665            7  \n159      8.39   717796            5  \n...       ...      ...          ...  \n10500    7.00       20            2  \n9701     7.33       20            1  \n8367     6.00       17            1  \n10464   10.00       13            2  \n10444    3.00       12            1  \n\n[12017 rows x 8 columns]",
      "text/html": "<div>\n<style scoped>\n    .dataframe tbody tr th:only-of-type {\n        vertical-align: middle;\n    }\n\n    .dataframe tbody tr th {\n        vertical-align: top;\n    }\n\n    .dataframe thead th {\n        text-align: right;\n    }\n</style>\n<table border=\"1\" class=\"dataframe\">\n  <thead>\n    <tr style=\"text-align: right;\">\n      <th></th>\n      <th>anime_id</th>\n      <th>name</th>\n      <th>genre</th>\n      <th>type</th>\n      <th>episodes</th>\n      <th>rating</th>\n      <th>members</th>\n      <th>genre_count</th>\n    </tr>\n  </thead>\n  <tbody>\n    <tr>\n      <th>40</th>\n      <td>1535</td>\n      <td>Death Note</td>\n      <td>Mystery, Police, Psychological, Supernatural, ...</td>\n      <td>TV</td>\n      <td>37</td>\n      <td>8.71</td>\n      <td>1013917</td>\n      <td>5</td>\n    </tr>\n    <tr>\n      <th>86</th>\n      <td>16498</td>\n      <td>Shingeki no Kyojin</td>\n      <td>Action, Drama, Fantasy, Shounen, Super Power</td>\n      <td>TV</td>\n      <td>25</td>\n      <td>8.54</td>\n      <td>896229</td>\n      <td>5</td>\n    </tr>\n    <tr>\n      <th>804</th>\n      <td>11757</td>\n      <td>Sword Art Online</td>\n      <td>Action, Adventure, Fantasy, Game, Romance</td>\n      <td>TV</td>\n      <td>25</td>\n      <td>7.83</td>\n      <td>893100</td>\n      <td>5</td>\n    </tr>\n    <tr>\n      <th>1</th>\n      <td>5114</td>\n      <td>Fullmetal Alchemist: Brotherhood</td>\n      <td>Action, Adventure, Drama, Fantasy, Magic, Mili...</td>\n      <td>TV</td>\n      <td>64</td>\n      <td>9.26</td>\n      <td>793665</td>\n      <td>7</td>\n    </tr>\n    <tr>\n      <th>159</th>\n      <td>6547</td>\n      <td>Angel Beats!</td>\n      <td>Action, Comedy, Drama, School, Supernatural</td>\n      <td>TV</td>\n      <td>13</td>\n      <td>8.39</td>\n      <td>717796</td>\n      <td>5</td>\n    </tr>\n    <tr>\n      <th>...</th>\n      <td>...</td>\n      <td>...</td>\n      <td>...</td>\n      <td>...</td>\n      <td>...</td>\n      <td>...</td>\n      <td>...</td>\n      <td>...</td>\n    </tr>\n    <tr>\n      <th>10500</th>\n      <td>33822</td>\n      <td>Ten ni Yaka Reru: E ni Yoru Shougen</td>\n      <td>Drama, Historical</td>\n      <td>OVA</td>\n      <td>1</td>\n      <td>7.00</td>\n      <td>20</td>\n      <td>2</td>\n    </tr>\n    <tr>\n      <th>9701</th>\n      <td>33826</td>\n      <td>Neko no Kuni no Kenpou</td>\n      <td>Historical</td>\n      <td>OVA</td>\n      <td>1</td>\n      <td>7.33</td>\n      <td>20</td>\n      <td>1</td>\n    </tr>\n    <tr>\n      <th>8367</th>\n      <td>34259</td>\n      <td>Chotto Ugoku!? &amp;quot;Futeneko&amp;quot;</td>\n      <td>Comedy</td>\n      <td>OVA</td>\n      <td>1</td>\n      <td>6.00</td>\n      <td>17</td>\n      <td>1</td>\n    </tr>\n    <tr>\n      <th>10464</th>\n      <td>33662</td>\n      <td>Taka no Tsume 8: Yoshida-kun no X-Files</td>\n      <td>Comedy, Parody</td>\n      <td>Movie</td>\n      <td>1</td>\n      <td>10.00</td>\n      <td>13</td>\n      <td>2</td>\n    </tr>\n    <tr>\n      <th>10444</th>\n      <td>34490</td>\n      <td>Sushi Azarashi</td>\n      <td>Comedy</td>\n      <td>TV</td>\n      <td>30</td>\n      <td>3.00</td>\n      <td>12</td>\n      <td>1</td>\n    </tr>\n  </tbody>\n</table>\n<p>12017 rows × 8 columns</p>\n</div>"
     },
     "execution_count": 102,
     "metadata": {},
     "output_type": "execute_result"
    }
   ],
   "source": [
    "df.sort_values(by = \"members\", ascending = False)"
   ],
   "metadata": {
    "collapsed": false,
    "ExecuteTime": {
     "end_time": "2023-11-23T12:18:28.577003Z",
     "start_time": "2023-11-23T12:18:28.510602Z"
    }
   },
   "id": "a11143e4913f916c"
  },
  {
   "cell_type": "markdown",
   "source": [
    "#### Добавить описание, что это и зачем\n"
   ],
   "metadata": {
    "collapsed": false
   },
   "id": "ef004cbf7757e8db"
  },
  {
   "cell_type": "code",
   "execution_count": 92,
   "id": "f7702a15-99af-44c4-bb29-b4fec48e4614",
   "metadata": {
    "ExecuteTime": {
     "end_time": "2023-11-23T12:13:55.583159Z",
     "start_time": "2023-11-23T12:13:55.579355Z"
    }
   },
   "outputs": [
    {
     "data": {
      "text/plain": "12294"
     },
     "execution_count": 92,
     "metadata": {},
     "output_type": "execute_result"
    }
   ],
   "source": [
    "df.shape[0]"
   ]
  },
  {
   "cell_type": "markdown",
   "source": [
    "#### Добавить описание, что это и зачем"
   ],
   "metadata": {
    "collapsed": false
   },
   "id": "62fffe4892052ed0"
  },
  {
   "cell_type": "code",
   "execution_count": 93,
   "id": "805e574f-0220-49e7-a34d-18e4caa19e97",
   "metadata": {
    "ExecuteTime": {
     "end_time": "2023-11-23T12:13:55.611718Z",
     "start_time": "2023-11-23T12:13:55.586700Z"
    }
   },
   "outputs": [
    {
     "data": {
      "text/plain": "anime_id    0.000000\nname        0.000000\ngenre       0.005043\ntype        0.002034\nepisodes    0.000000\nrating      0.018708\nmembers     0.000000\ndtype: float64"
     },
     "execution_count": 93,
     "metadata": {},
     "output_type": "execute_result"
    }
   ],
   "source": [
    "df.isna().sum() / df.shape[0]"
   ]
  },
  {
   "cell_type": "markdown",
   "id": "21bcf015-ed54-4b67-b6f0-ca31a0cf451e",
   "metadata": {},
   "source": [
    "So, the percentage of empty cells is smaller the 0,1% and I believe that they have very small impact on the overview the dataset, and it is easier to delete rows without some data."
   ]
  },
  {
   "cell_type": "code",
   "execution_count": 94,
   "id": "ea49eafc-7bef-49dd-a7e0-b1d1ae5fcd49",
   "metadata": {
    "ExecuteTime": {
     "end_time": "2023-11-23T12:13:55.628024Z",
     "start_time": "2023-11-23T12:13:55.594059Z"
    }
   },
   "outputs": [
    {
     "data": {
      "text/plain": "anime_id    0\nname        0\ngenre       0\ntype        0\nepisodes    0\nrating      0\nmembers     0\ndtype: int64"
     },
     "execution_count": 94,
     "metadata": {},
     "output_type": "execute_result"
    }
   ],
   "source": [
    "df.dropna(inplace = True)\n",
    "df.isna().sum()"
   ]
  },
  {
   "cell_type": "markdown",
   "id": "1fba9099-030f-487a-a8c2-a087fe082f55",
   "metadata": {},
   "source": [
    "There is no empty cells\n"
   ]
  },
  {
   "cell_type": "markdown",
   "id": "918a79db-85bf-48f8-8aa9-6df8149b7d57",
   "metadata": {},
   "source": [
    "Assumption: the more genres anime includes the higher rating"
   ]
  },
  {
   "cell_type": "code",
   "execution_count": 95,
   "id": "89ffed84-cc9a-4686-a216-b9625b385651",
   "metadata": {
    "ExecuteTime": {
     "end_time": "2023-11-23T12:13:55.670832Z",
     "start_time": "2023-11-23T12:13:55.609461Z"
    }
   },
   "outputs": [
    {
     "data": {
      "text/plain": "4"
     },
     "execution_count": 95,
     "metadata": {},
     "output_type": "execute_result"
    }
   ],
   "source": [
    "example = \"Drama, Romance, School, Supernatural\"  # Значения первой строчки\n",
    "\n",
    "\n",
    "def f(s: str):\n",
    "\ts = s.split(\", \")\n",
    "\ts = len(s)\n",
    "\treturn s\n",
    "\n",
    "\n",
    "f(example)"
   ]
  },
  {
   "cell_type": "markdown",
   "source": [
    "#### Добавить описание, что это и зачем"
   ],
   "metadata": {
    "collapsed": false
   },
   "id": "920b0a4bff98f2e2"
  },
  {
   "cell_type": "code",
   "execution_count": 96,
   "id": "1ad63cab-7853-4f30-a072-9324b5e947f2",
   "metadata": {
    "ExecuteTime": {
     "end_time": "2023-11-23T12:13:55.675466Z",
     "start_time": "2023-11-23T12:13:55.612809Z"
    }
   },
   "outputs": [
    {
     "data": {
      "text/plain": "Series([], Name: genre, dtype: object)"
     },
     "execution_count": 96,
     "metadata": {},
     "output_type": "execute_result"
    }
   ],
   "source": [
    "df.genre[df.genre.isna()]"
   ]
  },
  {
   "cell_type": "markdown",
   "source": [
    "#### Добавить описание, что это и зачем"
   ],
   "metadata": {
    "collapsed": false
   },
   "id": "95e03bee76617929"
  },
  {
   "cell_type": "code",
   "execution_count": 100,
   "id": "a9c41670-caba-4c88-82a8-245f8cdf3a73",
   "metadata": {
    "ExecuteTime": {
     "end_time": "2023-11-23T12:15:08.162050Z",
     "start_time": "2023-11-23T12:15:08.146791Z"
    }
   },
   "outputs": [],
   "source": [
    "df[\"genre_count\"] = df.genre.apply(f)"
   ]
  },
  {
   "cell_type": "markdown",
   "source": [
    "#### Добавить описание, что зачем это"
   ],
   "metadata": {
    "collapsed": false
   },
   "id": "7494ffe0f9e1a11f"
  },
  {
   "cell_type": "code",
   "execution_count": 101,
   "id": "3a5ba7cf-755c-43fd-ab47-3b7958d80dd9",
   "metadata": {
    "ExecuteTime": {
     "end_time": "2023-11-23T12:15:09.374135Z",
     "start_time": "2023-11-23T12:15:09.289874Z"
    }
   },
   "outputs": [
    {
     "ename": "ModuleNotFoundError",
     "evalue": "No module named 'statsmodels'",
     "output_type": "error",
     "traceback": [
      "\u001B[0;31m---------------------------------------------------------------------------\u001B[0m",
      "\u001B[0;31mModuleNotFoundError\u001B[0m                       Traceback (most recent call last)",
      "Cell \u001B[0;32mIn[101], line 1\u001B[0m\n\u001B[0;32m----> 1\u001B[0m \u001B[43mpx\u001B[49m\u001B[38;5;241;43m.\u001B[39;49m\u001B[43mscatter\u001B[49m\u001B[43m(\u001B[49m\u001B[43mdf\u001B[49m\u001B[43m,\u001B[49m\u001B[43m \u001B[49m\u001B[43mx\u001B[49m\u001B[43m \u001B[49m\u001B[38;5;241;43m=\u001B[39;49m\u001B[43m \u001B[49m\u001B[38;5;124;43m\"\u001B[39;49m\u001B[38;5;124;43mgenre_count\u001B[39;49m\u001B[38;5;124;43m\"\u001B[39;49m\u001B[43m,\u001B[49m\u001B[43m \u001B[49m\u001B[43my\u001B[49m\u001B[43m \u001B[49m\u001B[38;5;241;43m=\u001B[39;49m\u001B[43m \u001B[49m\u001B[38;5;124;43m\"\u001B[39;49m\u001B[38;5;124;43mrating\u001B[39;49m\u001B[38;5;124;43m\"\u001B[39;49m\u001B[43m,\u001B[49m\u001B[43m \u001B[49m\u001B[43mtrendline\u001B[49m\u001B[43m \u001B[49m\u001B[38;5;241;43m=\u001B[39;49m\u001B[43m \u001B[49m\u001B[38;5;124;43m\"\u001B[39;49m\u001B[38;5;124;43mols\u001B[39;49m\u001B[38;5;124;43m\"\u001B[39;49m\u001B[43m)\u001B[49m\n",
      "File \u001B[0;32m/Library/Frameworks/Python.framework/Versions/3.11/lib/python3.11/site-packages/plotly/express/_chart_types.py:66\u001B[0m, in \u001B[0;36mscatter\u001B[0;34m(data_frame, x, y, color, symbol, size, hover_name, hover_data, custom_data, text, facet_row, facet_col, facet_col_wrap, facet_row_spacing, facet_col_spacing, error_x, error_x_minus, error_y, error_y_minus, animation_frame, animation_group, category_orders, labels, orientation, color_discrete_sequence, color_discrete_map, color_continuous_scale, range_color, color_continuous_midpoint, symbol_sequence, symbol_map, opacity, size_max, marginal_x, marginal_y, trendline, trendline_options, trendline_color_override, trendline_scope, log_x, log_y, range_x, range_y, render_mode, title, template, width, height)\u001B[0m\n\u001B[1;32m     12\u001B[0m \u001B[38;5;28;01mdef\u001B[39;00m \u001B[38;5;21mscatter\u001B[39m(\n\u001B[1;32m     13\u001B[0m     data_frame\u001B[38;5;241m=\u001B[39m\u001B[38;5;28;01mNone\u001B[39;00m,\n\u001B[1;32m     14\u001B[0m     x\u001B[38;5;241m=\u001B[39m\u001B[38;5;28;01mNone\u001B[39;00m,\n\u001B[0;32m   (...)\u001B[0m\n\u001B[1;32m     60\u001B[0m     height\u001B[38;5;241m=\u001B[39m\u001B[38;5;28;01mNone\u001B[39;00m,\n\u001B[1;32m     61\u001B[0m ) \u001B[38;5;241m-\u001B[39m\u001B[38;5;241m>\u001B[39m go\u001B[38;5;241m.\u001B[39mFigure:\n\u001B[1;32m     62\u001B[0m \u001B[38;5;250m    \u001B[39m\u001B[38;5;124;03m\"\"\"\u001B[39;00m\n\u001B[1;32m     63\u001B[0m \u001B[38;5;124;03m    In a scatter plot, each row of `data_frame` is represented by a symbol\u001B[39;00m\n\u001B[1;32m     64\u001B[0m \u001B[38;5;124;03m    mark in 2D space.\u001B[39;00m\n\u001B[1;32m     65\u001B[0m \u001B[38;5;124;03m    \"\"\"\u001B[39;00m\n\u001B[0;32m---> 66\u001B[0m     \u001B[38;5;28;01mreturn\u001B[39;00m \u001B[43mmake_figure\u001B[49m\u001B[43m(\u001B[49m\u001B[43margs\u001B[49m\u001B[38;5;241;43m=\u001B[39;49m\u001B[38;5;28;43mlocals\u001B[39;49m\u001B[43m(\u001B[49m\u001B[43m)\u001B[49m\u001B[43m,\u001B[49m\u001B[43m \u001B[49m\u001B[43mconstructor\u001B[49m\u001B[38;5;241;43m=\u001B[39;49m\u001B[43mgo\u001B[49m\u001B[38;5;241;43m.\u001B[39;49m\u001B[43mScatter\u001B[49m\u001B[43m)\u001B[49m\n",
      "File \u001B[0;32m/Library/Frameworks/Python.framework/Versions/3.11/lib/python3.11/site-packages/plotly/express/_core.py:2253\u001B[0m, in \u001B[0;36mmake_figure\u001B[0;34m(args, constructor, trace_patch, layout_patch)\u001B[0m\n\u001B[1;32m   2250\u001B[0m     \u001B[38;5;28;01melif\u001B[39;00m args[\u001B[38;5;124m\"\u001B[39m\u001B[38;5;124mecdfnorm\u001B[39m\u001B[38;5;124m\"\u001B[39m] \u001B[38;5;241m==\u001B[39m \u001B[38;5;124m\"\u001B[39m\u001B[38;5;124mpercent\u001B[39m\u001B[38;5;124m\"\u001B[39m:\n\u001B[1;32m   2251\u001B[0m         group[var] \u001B[38;5;241m=\u001B[39m \u001B[38;5;241m100.0\u001B[39m \u001B[38;5;241m*\u001B[39m group[var] \u001B[38;5;241m/\u001B[39m group_sum\n\u001B[0;32m-> 2253\u001B[0m patch, fit_results \u001B[38;5;241m=\u001B[39m \u001B[43mmake_trace_kwargs\u001B[49m\u001B[43m(\u001B[49m\n\u001B[1;32m   2254\u001B[0m \u001B[43m    \u001B[49m\u001B[43margs\u001B[49m\u001B[43m,\u001B[49m\u001B[43m \u001B[49m\u001B[43mtrace_spec\u001B[49m\u001B[43m,\u001B[49m\u001B[43m \u001B[49m\u001B[43mgroup\u001B[49m\u001B[43m,\u001B[49m\u001B[43m \u001B[49m\u001B[43mmapping_labels\u001B[49m\u001B[38;5;241;43m.\u001B[39;49m\u001B[43mcopy\u001B[49m\u001B[43m(\u001B[49m\u001B[43m)\u001B[49m\u001B[43m,\u001B[49m\u001B[43m \u001B[49m\u001B[43msizeref\u001B[49m\n\u001B[1;32m   2255\u001B[0m \u001B[43m\u001B[49m\u001B[43m)\u001B[49m\n\u001B[1;32m   2256\u001B[0m trace\u001B[38;5;241m.\u001B[39mupdate(patch)\n\u001B[1;32m   2257\u001B[0m \u001B[38;5;28;01mif\u001B[39;00m fit_results \u001B[38;5;129;01mis\u001B[39;00m \u001B[38;5;129;01mnot\u001B[39;00m \u001B[38;5;28;01mNone\u001B[39;00m:\n",
      "File \u001B[0;32m/Library/Frameworks/Python.framework/Versions/3.11/lib/python3.11/site-packages/plotly/express/_core.py:359\u001B[0m, in \u001B[0;36mmake_trace_kwargs\u001B[0;34m(args, trace_spec, trace_data, mapping_labels, sizeref)\u001B[0m\n\u001B[1;32m    357\u001B[0m trace_patch[\u001B[38;5;124m\"\u001B[39m\u001B[38;5;124mx\u001B[39m\u001B[38;5;124m\"\u001B[39m] \u001B[38;5;241m=\u001B[39m sorted_trace_data[args[\u001B[38;5;124m\"\u001B[39m\u001B[38;5;124mx\u001B[39m\u001B[38;5;124m\"\u001B[39m]][non_missing]\n\u001B[1;32m    358\u001B[0m trendline_function \u001B[38;5;241m=\u001B[39m trendline_functions[attr_value]\n\u001B[0;32m--> 359\u001B[0m y_out, hover_header, fit_results \u001B[38;5;241m=\u001B[39m \u001B[43mtrendline_function\u001B[49m\u001B[43m(\u001B[49m\n\u001B[1;32m    360\u001B[0m \u001B[43m    \u001B[49m\u001B[43margs\u001B[49m\u001B[43m[\u001B[49m\u001B[38;5;124;43m\"\u001B[39;49m\u001B[38;5;124;43mtrendline_options\u001B[39;49m\u001B[38;5;124;43m\"\u001B[39;49m\u001B[43m]\u001B[49m\u001B[43m,\u001B[49m\n\u001B[1;32m    361\u001B[0m \u001B[43m    \u001B[49m\u001B[43msorted_trace_data\u001B[49m\u001B[43m[\u001B[49m\u001B[43margs\u001B[49m\u001B[43m[\u001B[49m\u001B[38;5;124;43m\"\u001B[39;49m\u001B[38;5;124;43mx\u001B[39;49m\u001B[38;5;124;43m\"\u001B[39;49m\u001B[43m]\u001B[49m\u001B[43m]\u001B[49m\u001B[43m,\u001B[49m\n\u001B[1;32m    362\u001B[0m \u001B[43m    \u001B[49m\u001B[43mx\u001B[49m\u001B[43m,\u001B[49m\n\u001B[1;32m    363\u001B[0m \u001B[43m    \u001B[49m\u001B[43my\u001B[49m\u001B[43m,\u001B[49m\n\u001B[1;32m    364\u001B[0m \u001B[43m    \u001B[49m\u001B[43margs\u001B[49m\u001B[43m[\u001B[49m\u001B[38;5;124;43m\"\u001B[39;49m\u001B[38;5;124;43mx\u001B[39;49m\u001B[38;5;124;43m\"\u001B[39;49m\u001B[43m]\u001B[49m\u001B[43m,\u001B[49m\n\u001B[1;32m    365\u001B[0m \u001B[43m    \u001B[49m\u001B[43margs\u001B[49m\u001B[43m[\u001B[49m\u001B[38;5;124;43m\"\u001B[39;49m\u001B[38;5;124;43my\u001B[39;49m\u001B[38;5;124;43m\"\u001B[39;49m\u001B[43m]\u001B[49m\u001B[43m,\u001B[49m\n\u001B[1;32m    366\u001B[0m \u001B[43m    \u001B[49m\u001B[43mnon_missing\u001B[49m\u001B[43m,\u001B[49m\n\u001B[1;32m    367\u001B[0m \u001B[43m\u001B[49m\u001B[43m)\u001B[49m\n\u001B[1;32m    368\u001B[0m \u001B[38;5;28;01massert\u001B[39;00m \u001B[38;5;28mlen\u001B[39m(y_out) \u001B[38;5;241m==\u001B[39m \u001B[38;5;28mlen\u001B[39m(\n\u001B[1;32m    369\u001B[0m     trace_patch[\u001B[38;5;124m\"\u001B[39m\u001B[38;5;124mx\u001B[39m\u001B[38;5;124m\"\u001B[39m]\n\u001B[1;32m    370\u001B[0m ), \u001B[38;5;124m\"\u001B[39m\u001B[38;5;124mmissing-data-handling failure in trendline code\u001B[39m\u001B[38;5;124m\"\u001B[39m\n\u001B[1;32m    371\u001B[0m trace_patch[\u001B[38;5;124m\"\u001B[39m\u001B[38;5;124my\u001B[39m\u001B[38;5;124m\"\u001B[39m] \u001B[38;5;241m=\u001B[39m y_out\n",
      "File \u001B[0;32m/Library/Frameworks/Python.framework/Versions/3.11/lib/python3.11/site-packages/plotly/express/trendline_functions/__init__.py:43\u001B[0m, in \u001B[0;36mols\u001B[0;34m(trendline_options, x_raw, x, y, x_label, y_label, non_missing)\u001B[0m\n\u001B[1;32m     37\u001B[0m     \u001B[38;5;28;01mif\u001B[39;00m k \u001B[38;5;129;01mnot\u001B[39;00m \u001B[38;5;129;01min\u001B[39;00m valid_options:\n\u001B[1;32m     38\u001B[0m         \u001B[38;5;28;01mraise\u001B[39;00m \u001B[38;5;167;01mValueError\u001B[39;00m(\n\u001B[1;32m     39\u001B[0m             \u001B[38;5;124m\"\u001B[39m\u001B[38;5;124mOLS trendline_options keys must be one of [\u001B[39m\u001B[38;5;132;01m%s\u001B[39;00m\u001B[38;5;124m] but got \u001B[39m\u001B[38;5;124m'\u001B[39m\u001B[38;5;132;01m%s\u001B[39;00m\u001B[38;5;124m'\u001B[39m\u001B[38;5;124m\"\u001B[39m\n\u001B[1;32m     40\u001B[0m             \u001B[38;5;241m%\u001B[39m (\u001B[38;5;124m\"\u001B[39m\u001B[38;5;124m, \u001B[39m\u001B[38;5;124m\"\u001B[39m\u001B[38;5;241m.\u001B[39mjoin(valid_options), k)\n\u001B[1;32m     41\u001B[0m         )\n\u001B[0;32m---> 43\u001B[0m \u001B[38;5;28;01mimport\u001B[39;00m \u001B[38;5;21;01mstatsmodels\u001B[39;00m\u001B[38;5;21;01m.\u001B[39;00m\u001B[38;5;21;01mapi\u001B[39;00m \u001B[38;5;28;01mas\u001B[39;00m \u001B[38;5;21;01msm\u001B[39;00m\n\u001B[1;32m     45\u001B[0m add_constant \u001B[38;5;241m=\u001B[39m trendline_options\u001B[38;5;241m.\u001B[39mget(\u001B[38;5;124m\"\u001B[39m\u001B[38;5;124madd_constant\u001B[39m\u001B[38;5;124m\"\u001B[39m, \u001B[38;5;28;01mTrue\u001B[39;00m)\n\u001B[1;32m     46\u001B[0m log_x \u001B[38;5;241m=\u001B[39m trendline_options\u001B[38;5;241m.\u001B[39mget(\u001B[38;5;124m\"\u001B[39m\u001B[38;5;124mlog_x\u001B[39m\u001B[38;5;124m\"\u001B[39m, \u001B[38;5;28;01mFalse\u001B[39;00m)\n",
      "\u001B[0;31mModuleNotFoundError\u001B[0m: No module named 'statsmodels'"
     ]
    }
   ],
   "source": [
    "px.scatter(df, x = \"genre_count\", y = \"rating\", trendline = \"ols\")"
   ]
  },
  {
   "cell_type": "markdown",
   "source": [
    "#### Добавить описание, зачем это"
   ],
   "metadata": {
    "collapsed": false
   },
   "id": "10d1ebaa5cfb5a8c"
  }
 ],
 "metadata": {
  "kernelspec": {
   "display_name": "Python 3 (ipykernel)",
   "language": "python",
   "name": "python3"
  },
  "language_info": {
   "codemirror_mode": {
    "name": "ipython",
    "version": 3
   },
   "file_extension": ".py",
   "mimetype": "text/x-python",
   "name": "python",
   "nbconvert_exporter": "python",
   "pygments_lexer": "ipython3",
   "version": "3.11.5"
  }
 },
 "nbformat": 4,
 "nbformat_minor": 5
}
