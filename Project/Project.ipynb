{
 "cells": [
  {
   "cell_type": "markdown",
   "id": "c668ec7d-3e23-4d78-a0db-92352002dc98",
   "metadata": {},
   "source": [
    "Anime Recommendations Database"
   ]
  },
  {
   "cell_type": "code",
   "execution_count": 3,
   "id": "e37bb892-1075-47a4-8250-deab28a1311d",
   "metadata": {
    "ExecuteTime": {
     "end_time": "2023-11-23T11:01:24.744165Z",
     "start_time": "2023-11-23T11:01:24.678825Z"
    }
   },
   "outputs": [],
   "source": [
    "import pandas as pd\n",
    "import numpy as np"
   ]
  },
  {
   "cell_type": "code",
   "execution_count": 4,
   "id": "0bb162a0-5835-4dc1-8a77-cf4f0bccd168",
   "metadata": {
    "ExecuteTime": {
     "end_time": "2023-11-23T11:01:24.797737Z",
     "start_time": "2023-11-23T11:01:24.684832Z"
    }
   },
   "outputs": [
    {
     "data": {
      "text/plain": "   anime_id                              name  \\\n0     32281                    Kimi no Na wa.   \n1      5114  Fullmetal Alchemist: Brotherhood   \n2     28977                          Gintama°   \n3      9253                       Steins;Gate   \n4      9969                     Gintama&#039;   \n\n                                               genre   type episodes  rating  \\\n0               Drama, Romance, School, Supernatural  Movie        1    9.37   \n1  Action, Adventure, Drama, Fantasy, Magic, Mili...     TV       64    9.26   \n2  Action, Comedy, Historical, Parody, Samurai, S...     TV       51    9.25   \n3                                   Sci-Fi, Thriller     TV       24    9.17   \n4  Action, Comedy, Historical, Parody, Samurai, S...     TV       51    9.16   \n\n   members  \n0   200630  \n1   793665  \n2   114262  \n3   673572  \n4   151266  ",
      "text/html": "<div>\n<style scoped>\n    .dataframe tbody tr th:only-of-type {\n        vertical-align: middle;\n    }\n\n    .dataframe tbody tr th {\n        vertical-align: top;\n    }\n\n    .dataframe thead th {\n        text-align: right;\n    }\n</style>\n<table border=\"1\" class=\"dataframe\">\n  <thead>\n    <tr style=\"text-align: right;\">\n      <th></th>\n      <th>anime_id</th>\n      <th>name</th>\n      <th>genre</th>\n      <th>type</th>\n      <th>episodes</th>\n      <th>rating</th>\n      <th>members</th>\n    </tr>\n  </thead>\n  <tbody>\n    <tr>\n      <th>0</th>\n      <td>32281</td>\n      <td>Kimi no Na wa.</td>\n      <td>Drama, Romance, School, Supernatural</td>\n      <td>Movie</td>\n      <td>1</td>\n      <td>9.37</td>\n      <td>200630</td>\n    </tr>\n    <tr>\n      <th>1</th>\n      <td>5114</td>\n      <td>Fullmetal Alchemist: Brotherhood</td>\n      <td>Action, Adventure, Drama, Fantasy, Magic, Mili...</td>\n      <td>TV</td>\n      <td>64</td>\n      <td>9.26</td>\n      <td>793665</td>\n    </tr>\n    <tr>\n      <th>2</th>\n      <td>28977</td>\n      <td>Gintama°</td>\n      <td>Action, Comedy, Historical, Parody, Samurai, S...</td>\n      <td>TV</td>\n      <td>51</td>\n      <td>9.25</td>\n      <td>114262</td>\n    </tr>\n    <tr>\n      <th>3</th>\n      <td>9253</td>\n      <td>Steins;Gate</td>\n      <td>Sci-Fi, Thriller</td>\n      <td>TV</td>\n      <td>24</td>\n      <td>9.17</td>\n      <td>673572</td>\n    </tr>\n    <tr>\n      <th>4</th>\n      <td>9969</td>\n      <td>Gintama&amp;#039;</td>\n      <td>Action, Comedy, Historical, Parody, Samurai, S...</td>\n      <td>TV</td>\n      <td>51</td>\n      <td>9.16</td>\n      <td>151266</td>\n    </tr>\n  </tbody>\n</table>\n</div>"
     },
     "execution_count": 4,
     "metadata": {},
     "output_type": "execute_result"
    }
   ],
   "source": [
    "df = pd.read_csv(r\"anime.csv\")\n",
    "df.head()"
   ]
  },
  {
   "cell_type": "markdown",
   "id": "b8b5a862-1fe6-4f97-a897-dc8fadbb902a",
   "metadata": {},
   "source": [
    "Lets check if there are empty cells and the impotance of them in relation of the amount of data"
   ]
  },
  {
   "cell_type": "code",
   "execution_count": 5,
   "id": "f7702a15-99af-44c4-bb29-b4fec48e4614",
   "metadata": {
    "ExecuteTime": {
     "end_time": "2023-11-23T11:01:24.798195Z",
     "start_time": "2023-11-23T11:01:24.710055Z"
    }
   },
   "outputs": [
    {
     "data": {
      "text/plain": "12294"
     },
     "execution_count": 5,
     "metadata": {},
     "output_type": "execute_result"
    }
   ],
   "source": [
    "df.shape[0]"
   ]
  },
  {
   "cell_type": "code",
   "execution_count": 6,
   "id": "805e574f-0220-49e7-a34d-18e4caa19e97",
   "metadata": {
    "ExecuteTime": {
     "end_time": "2023-11-23T11:01:24.822033Z",
     "start_time": "2023-11-23T11:01:24.714306Z"
    }
   },
   "outputs": [
    {
     "data": {
      "text/plain": "anime_id    0.000000\nname        0.000000\ngenre       0.005043\ntype        0.002034\nepisodes    0.000000\nrating      0.018708\nmembers     0.000000\ndtype: float64"
     },
     "execution_count": 6,
     "metadata": {},
     "output_type": "execute_result"
    }
   ],
   "source": [
    "df.isna().sum() / df.shape[0]"
   ]
  },
  {
   "cell_type": "markdown",
   "id": "21bcf015-ed54-4b67-b6f0-ca31a0cf451e",
   "metadata": {},
   "source": [
    "So, the percentage of empty cells is smaller the 0,1% and I bellieve that they have very small impact on the overview the dataset and it is easier to delste rows without some data."
   ]
  },
  {
   "cell_type": "code",
   "execution_count": 7,
   "id": "ea49eafc-7bef-49dd-a7e0-b1d1ae5fcd49",
   "metadata": {
    "ExecuteTime": {
     "end_time": "2023-11-23T11:01:24.823697Z",
     "start_time": "2023-11-23T11:01:24.721279Z"
    }
   },
   "outputs": [],
   "source": [
    "df.dropna(inplace = True)"
   ]
  },
  {
   "cell_type": "code",
   "execution_count": 8,
   "id": "326f9411-9aca-4ed0-ae4e-c98b9cc03155",
   "metadata": {
    "ExecuteTime": {
     "end_time": "2023-11-23T11:01:24.824235Z",
     "start_time": "2023-11-23T11:01:24.729110Z"
    }
   },
   "outputs": [
    {
     "data": {
      "text/plain": "anime_id    0\nname        0\ngenre       0\ntype        0\nepisodes    0\nrating      0\nmembers     0\ndtype: int64"
     },
     "execution_count": 8,
     "metadata": {},
     "output_type": "execute_result"
    }
   ],
   "source": [
    "df.isna().sum()"
   ]
  },
  {
   "cell_type": "markdown",
   "id": "1fba9099-030f-487a-a8c2-a087fe082f55",
   "metadata": {},
   "source": [
    "There is no empty cells\n"
   ]
  },
  {
   "cell_type": "code",
   "execution_count": 9,
   "id": "f445c380-01ba-430d-b0a4-95948cfd376e",
   "metadata": {
    "ExecuteTime": {
     "end_time": "2023-11-23T11:01:25.252312Z",
     "start_time": "2023-11-23T11:01:24.731080Z"
    }
   },
   "outputs": [],
   "source": [
    "import matplotlib.pyplot as plt"
   ]
  },
  {
   "cell_type": "markdown",
   "id": "918a79db-85bf-48f8-8aa9-6df8149b7d57",
   "metadata": {},
   "source": [
    "Assumption: the more genras anime includes the higher rating"
   ]
  },
  {
   "cell_type": "code",
   "execution_count": 10,
   "id": "0c072f8c-bcb6-4118-a6e0-fce4656eec19",
   "metadata": {
    "ExecuteTime": {
     "end_time": "2023-11-23T11:01:25.252642Z",
     "start_time": "2023-11-23T11:01:25.208786Z"
    }
   },
   "outputs": [],
   "source": [
    "example = \"Drama, Romance, School, Supernatural\""
   ]
  },
  {
   "cell_type": "code",
   "execution_count": 11,
   "id": "89ffed84-cc9a-4686-a216-b9625b385651",
   "metadata": {
    "ExecuteTime": {
     "end_time": "2023-11-23T11:01:25.253028Z",
     "start_time": "2023-11-23T11:01:25.211753Z"
    }
   },
   "outputs": [
    {
     "data": {
      "text/plain": "4"
     },
     "execution_count": 11,
     "metadata": {},
     "output_type": "execute_result"
    }
   ],
   "source": [
    "def f(s: list):\n",
    "\ts = s.split()\n",
    "\ts = len(s)\n",
    "\treturn s\n",
    "\n",
    "\n",
    "f(example)"
   ]
  },
  {
   "cell_type": "code",
   "execution_count": 12,
   "id": "1ad63cab-7853-4f30-a072-9324b5e947f2",
   "metadata": {
    "ExecuteTime": {
     "end_time": "2023-11-23T11:01:25.253208Z",
     "start_time": "2023-11-23T11:01:25.215325Z"
    }
   },
   "outputs": [
    {
     "data": {
      "text/plain": "Series([], Name: genre, dtype: object)"
     },
     "execution_count": 12,
     "metadata": {},
     "output_type": "execute_result"
    }
   ],
   "source": [
    "df.genre[df.genre.isna()]"
   ]
  },
  {
   "cell_type": "code",
   "execution_count": 13,
   "id": "a9c41670-caba-4c88-82a8-245f8cdf3a73",
   "metadata": {
    "ExecuteTime": {
     "end_time": "2023-11-23T11:01:25.253294Z",
     "start_time": "2023-11-23T11:01:25.221747Z"
    }
   },
   "outputs": [],
   "source": [
    "genre = df.genre.apply(f)"
   ]
  },
  {
   "cell_type": "code",
   "execution_count": 14,
   "id": "a96193cb-e3ef-4f09-a4ad-5bf2b62b42c6",
   "metadata": {
    "ExecuteTime": {
     "start_time": "2023-11-23T11:01:25.225760Z"
    }
   },
   "outputs": [
    {
     "data": {
      "text/plain": "0                     Drama, Romance, School, Supernatural\n1        Action, Adventure, Drama, Fantasy, Magic, Mili...\n2        Action, Comedy, Historical, Parody, Samurai, S...\n3                                         Sci-Fi, Thriller\n4        Action, Comedy, Historical, Parody, Samurai, S...\n                               ...                        \n12289                                               Hentai\n12290                                               Hentai\n12291                                               Hentai\n12292                                               Hentai\n12293                                               Hentai\nName: genre, Length: 12017, dtype: object"
     },
     "execution_count": 14,
     "metadata": {},
     "output_type": "execute_result"
    }
   ],
   "source": [
    " df.genre"
   ]
  },
  {
   "cell_type": "code",
   "execution_count": 15,
   "id": "3a5ba7cf-755c-43fd-ab47-3b7958d80dd9",
   "metadata": {
    "ExecuteTime": {
     "end_time": "2023-11-23T11:01:25.454303Z",
     "start_time": "2023-11-23T11:01:25.228778Z"
    }
   },
   "outputs": [
    {
     "data": {
      "text/plain": "<matplotlib.collections.PathCollection at 0x124bb26d0>"
     },
     "execution_count": 15,
     "metadata": {},
     "output_type": "execute_result"
    },
    {
     "data": {
      "text/plain": "<Figure size 640x480 with 1 Axes>",
      "image/png": "[encoded data removed]"
     },
     "metadata": {},
     "output_type": "display_data"
    }
   ],
   "source": [
    "plt.scatter(genre, df.members, )"
   ]
  }
 ],
 "metadata": {
  "kernelspec": {
   "display_name": "Python 3 (ipykernel)",
   "language": "python",
   "name": "python3"
  },
  "language_info": {
   "codemirror_mode": {
    "name": "ipython",
    "version": 3
   },
   "file_extension": ".py",
   "mimetype": "text/x-python",
   "name": "python",
   "nbconvert_exporter": "python",
   "pygments_lexer": "ipython3",
   "version": "3.11.5"
  }
 },
 "nbformat": 4,
 "nbformat_minor": 5
}
